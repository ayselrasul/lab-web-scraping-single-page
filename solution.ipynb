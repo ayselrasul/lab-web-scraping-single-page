{
 "cells": [
  {
   "cell_type": "markdown",
   "id": "37bb9119",
   "metadata": {},
   "source": [
    "# Lab | Web Scraping Single Page\n",
    "\n",
    "**Business goal**:\n",
    "- Check the case_study_gnod.md file.\n",
    "\n",
    "- Make sure you've understood the big picture of your project:\n",
    "\n",
    "- the goal of the company (Gnod),\n",
    "- their current product (Gnoosic),\n",
    "- their strategy, and\n",
    "- how your project fits into this context.\n",
    "Re-read the business case and the e-mail from the CTO, take a look at the flowchart and create an initial Trello board with the tasks you think you'll have to accomplish\n",
    "\n",
    "**Instructions - Scraping popular songs**\n",
    "Your product will take a song as an input from the user and will output another song (the recommendation). In most cases, the recommended song will have to be similar to the inputted song, but the CTO thinks that if the song is on the top charts at the moment, the user will enjoy more a recommendation of a song that's also popular at the moment.\n",
    "\n",
    "You have find data on the internet about currently popular songs. Billboard maintains a weekly Top 100 of \"hot\" songs here: https://www.billboard.com/charts/hot-100.\n",
    "\n",
    "It's a good place to start! Scrape the current top 100 songs and their respective artists, and put the information into a pandas dataframe."
   ]
  },
  {
   "cell_type": "markdown",
   "id": "c5942316",
   "metadata": {},
   "source": [
    "### Import requested libraries"
   ]
  },
  {
   "cell_type": "code",
   "execution_count": 128,
   "id": "41a58b64",
   "metadata": {},
   "outputs": [],
   "source": [
    "from bs4 import BeautifulSoup\n",
    "import requests\n",
    "import pandas as pd\n",
    "import re"
   ]
  },
  {
   "cell_type": "markdown",
   "id": "24fe7b44",
   "metadata": {},
   "source": [
    "### Parse the element"
   ]
  },
  {
   "cell_type": "code",
   "execution_count": 129,
   "id": "1376038e",
   "metadata": {},
   "outputs": [],
   "source": [
    "url = 'https://www.billboard.com/charts/hot-100'\n",
    "page = requests.get(url)\n",
    "soup = BeautifulSoup(page.content, \"html.parser\")"
   ]
  },
  {
   "cell_type": "code",
   "execution_count": 140,
   "id": "e4d13365",
   "metadata": {},
   "outputs": [],
   "source": [
    "# re.compile method helps to search a pattern without rewriting it\n",
    "\n",
    "artists = soup.find_all('span',{'class':re.compile('c-label a-no-trucate')})\n",
    "songs = soup.find_all('h3',{'class':re.compile('c-title a-no-trucate')})"
   ]
  },
  {
   "cell_type": "markdown",
   "id": "ae5643f5",
   "metadata": {},
   "source": [
    "### Top 100 songs and their respective artists"
   ]
  },
  {
   "cell_type": "code",
   "execution_count": 134,
   "id": "d49d0ee3",
   "metadata": {
    "scrolled": true
   },
   "outputs": [],
   "source": [
    "songs_with_artist = []\n",
    "for artist, song in zip(artists, songs):\n",
    "    songs_with_artist.append((artist.text.strip(), song.text.strip()))"
   ]
  },
  {
   "cell_type": "code",
   "execution_count": 136,
   "id": "14932033",
   "metadata": {
    "scrolled": false
   },
   "outputs": [
    {
     "data": {
      "text/plain": [
       "[('Jack Harlow', 'First Class'),\n",
       " ('Harry Styles', 'As It Was'),\n",
       " ('Glass Animals', 'Heat Waves'),\n",
       " ('Latto', 'Big Energy'),\n",
       " ('Imagine Dragons X JID', 'Enemy'),\n",
       " ('The Kid LAROI & Justin Bieber', 'Stay'),\n",
       " ('Kodak Black', 'Super Gremlin'),\n",
       " ('Doja Cat', 'Woman'),\n",
       " ('Justin Bieber', 'Ghost'),\n",
       " ('Lil Nas X', 'Thats What I Want'),\n",
       " ('GAYLE', 'abcdefu'),\n",
       " ('Ed Sheeran', 'Bad Habits'),\n",
       " ('Lil Baby', 'Right On'),\n",
       " ('Lil Baby', 'In A Minute'),\n",
       " ('Ed Sheeran', 'Shivers'),\n",
       " ('Elton John & Dua Lipa', 'Cold Heart (PNAU Remix)'),\n",
       " ('Adele', 'Easy On Me'),\n",
       " ('Carolina Gaitan, Mauro Castillo, Adassa, Rhenzy Feliz, Diane Guerrero, Stephanie Beatriz & Encanto Cast',\n",
       "  \"We Don't Talk About Bruno\"),\n",
       " ('Lil Nas X & Jack Harlow', 'Industry Baby'),\n",
       " ('Doja Cat', 'Need To Know'),\n",
       " ('Dua Lipa', 'Levitating'),\n",
       " ('Cody Johnson', \"'Til You Can't\"),\n",
       " ('The Weeknd & Ariana Grande', 'Save Your Tears'),\n",
       " ('Post Malone & The Weeknd', 'One Right Now'),\n",
       " ('Camila Cabello Featuring Ed Sheeran', 'Bam Bam'),\n",
       " ('Muni Long', 'Hrs And Hrs'),\n",
       " ('Cole Swindell / Lainey Wilson', 'Never Say Never'),\n",
       " ('Olivia Rodrigo', 'Good 4 U'),\n",
       " ('SZA', 'I Hate U'),\n",
       " ('Becky G X Karol G', 'MAMIII'),\n",
       " ('Luke Combs', \"Doin' This\"),\n",
       " ('Walker Hayes', 'AA'),\n",
       " ('Megan Thee Stallion & Dua Lipa', 'Sweetest Pie'),\n",
       " ('Lauren Spencer-Smith', 'Fingers Crossed'),\n",
       " ('Gunna & Future Featuring Young Thug', 'Pushin P'),\n",
       " ('Morgan Wallen', 'Wasted On You'),\n",
       " ('Doja Cat & The Weeknd', 'You Right'),\n",
       " ('Walker Hayes', 'Fancy Like'),\n",
       " ('Lil Durk Featuring Gunna', 'What Happened To Virgil'),\n",
       " ('Jack Harlow', 'Nail Tech'),\n",
       " ('Dierks Bentley, BRELAND & HARDY', 'Beers On Me'),\n",
       " ('JNR CHOI & Sam Tompkins', 'To The Moon!'),\n",
       " ('Charlie Puth', 'Light Switch'),\n",
       " ('Dove Cameron', 'Boyfriend'),\n",
       " ('Em Beihold', 'Numb Little Bug'),\n",
       " ('Elle King & Miranda Lambert', \"Drunk (And I Don't Wanna Go Home)\"),\n",
       " ('Jordan Davis Featuring Luke Bryan', 'Buy Dirt'),\n",
       " ('Morgan Wallen', 'Sand In My Boots'),\n",
       " ('Tiesto & Ava Max', 'The Motto'),\n",
       " ('Tate McRae', \"She's All I Wanna Be\"),\n",
       " ('Thomas Rhett', 'Slow Down Summer'),\n",
       " ('Shawn Mendes', \"When You're Gone\"),\n",
       " ('Fireboy DML & Ed Sheeran', 'Peru'),\n",
       " ('Russ Featuring Ktlyn', 'Handsomer'),\n",
       " ('Sam Hunt', '23'),\n",
       " ('Jessica Darrow', 'Surface Pressure'),\n",
       " ('Maren Morris', 'Circles Around This Town'),\n",
       " ('Lil Durk Featuring Morgan Wallen', 'Broadway Girls'),\n",
       " ('Summer Walker & SZA', 'No Love'),\n",
       " ('Tyga X Doja Cat', 'Freaky Deaky'),\n",
       " ('Lil Durk', 'Ahhh Ha'),\n",
       " ('BIA Featuring J. Cole', 'London'),\n",
       " ('Eric Church', 'Heart On Fire'),\n",
       " ('Lil Tjay', 'In My Head'),\n",
       " ('Carly Pearce & Ashley McBryde', 'Never Wanted To Be That Girl'),\n",
       " ('Nardo Wick, Lil Baby & Future', 'Me Or Sum'),\n",
       " ('ERNEST Featuring Morgan Wallen', 'Flower Shops'),\n",
       " ('Miranda Lambert', 'If I Was A Cowboy'),\n",
       " ('Yahritza y Su Esencia', 'Soy El Unico'),\n",
       " ('Nicki Minaj X Lil Baby', 'Do We Have A Problem?'),\n",
       " ('Fivio Foreign, Kanye West & Alicia Keys', 'City Of Gods'),\n",
       " (\"4*TOWN (From Disney And Pixar's Turning Red)\", 'Nobody Like U'),\n",
       " ('Jason Aldean', 'Trouble With A Heartbreak'),\n",
       " ('Anitta', 'Envolver'),\n",
       " ('Camila Cabello Featuring WILLOW', 'Psychofreak'),\n",
       " ('HARDY', 'Give Heaven Some Hell'),\n",
       " ('Gucci Mane Featuring Lil Durk', 'Rumors'),\n",
       " ('Stephanie Beatriz, Olga Merediz & Encanto Cast', 'The Family Madrigal'),\n",
       " ('42 Dugg & EST Gee', 'Thump Shit'),\n",
       " ('Parmalee', 'Take My Name'),\n",
       " ('Chloe', 'Treat Me'),\n",
       " ('Doja Cat', 'Get Into It (Yuh)'),\n",
       " ('Parker McCollum', 'To Be Loved By You'),\n",
       " ('Blake Shelton', 'Come Back As A Country Boy'),\n",
       " ('5 Seconds Of Summer', 'Complete Mess'),\n",
       " ('The Walters', 'I Love You So'),\n",
       " ('Gunna', 'Banking On Me'),\n",
       " ('Kevin Gates Featuring Juicy J', 'Thinking With My Dick'),\n",
       " ('Scotty McCreery', 'Damn Strait'),\n",
       " ('Russell Dickerson & Jake Scott', 'She Likes It'),\n",
       " ('Gunna Featuring Drake', 'P Power'),\n",
       " ('Ari Lennox', 'Pressure'),\n",
       " ('Sebastian Yatra', 'Dos Oruguitas'),\n",
       " ('Imagine Dragons', 'Bones'),\n",
       " ('Coi Leray & Nicki Minaj', 'Blick Blick!'),\n",
       " ('Lucky Daye', 'Over'),\n",
       " ('Pusha T Featuring JAY-Z & Pharrell Williams', 'Neck & Wrist'),\n",
       " ('Rauw Alejandro & Chencho Corleone', 'Desesperados'),\n",
       " ('Daddy Yankee & Bad Bunny', 'X Ultima Vez'),\n",
       " ('BRELAND Featuring Thomas Rhett', 'Praise The Lord')]"
      ]
     },
     "execution_count": 136,
     "metadata": {},
     "output_type": "execute_result"
    }
   ],
   "source": [
    "songs_with_artist"
   ]
  },
  {
   "cell_type": "markdown",
   "id": "b2b09d4c",
   "metadata": {},
   "source": [
    "### Song recommendation function"
   ]
  },
  {
   "cell_type": "code",
   "execution_count": 138,
   "id": "7c7d73c3",
   "metadata": {},
   "outputs": [],
   "source": [
    "import random\n",
    "\n",
    "def recommend(song_name):\n",
    "    random_index = random.randint(0, len(songs_with_artist))  #creating random index\n",
    "    random_artist, random_song = songs_with_artist[random_index]\n",
    "    \n",
    "    if random_song != song_name:\n",
    "        return random_song\n",
    "    else:\n",
    "        return recommend(song_name)"
   ]
  },
  {
   "cell_type": "code",
   "execution_count": 150,
   "id": "b7eca854",
   "metadata": {},
   "outputs": [
    {
     "data": {
      "text/plain": [
       "\"Drunk (And I Don't Wanna Go Home)\""
      ]
     },
     "execution_count": 150,
     "metadata": {},
     "output_type": "execute_result"
    }
   ],
   "source": [
    "# Calling function\n",
    "recommend('As It Was')  "
   ]
  }
 ],
 "metadata": {
  "kernelspec": {
   "display_name": "Python 3",
   "language": "python",
   "name": "python3"
  },
  "language_info": {
   "codemirror_mode": {
    "name": "ipython",
    "version": 3
   },
   "file_extension": ".py",
   "mimetype": "text/x-python",
   "name": "python",
   "nbconvert_exporter": "python",
   "pygments_lexer": "ipython3",
   "version": "3.8.8"
  }
 },
 "nbformat": 4,
 "nbformat_minor": 5
}
